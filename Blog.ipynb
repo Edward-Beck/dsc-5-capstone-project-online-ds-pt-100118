{
 "cells": [
  {
   "cell_type": "markdown",
   "metadata": {},
   "source": [
    "One of the most strenuous tasks that financial institutions have to take up after the Dodd-Frank Wall St. Reform and Consumer Protection Act is to prove solvency in times of economic fluctuation. This procedure is called stress testing and can be thought of a measure of financial health. The stress test is made up of five key areas with the acronym CAMELS which include, Capital Adequacy, Asset Quality, Management Capability, Liquidity, and Sensitivity. The following project focuses on the first aspect capital adequacy which is the ratio of equity to risk weighted assets and Management Capability or the ability to properly respond to economic stress. "
   ]
  },
  {
   "cell_type": "markdown",
   "metadata": {},
   "source": [
    "![](https://raw.githubusercontent.com/Edward-Beck/dsc-5-capstone-project-online-ds-pt-100118/master/cap%20pictures/Asset_Portfolio.png)"
   ]
  },
  {
   "cell_type": "markdown",
   "metadata": {},
   "source": [
    "![](https://raw.githubusercontent.com/Edward-Beck/dsc-5-capstone-project-online-ds-pt-100118/master/cap%20pictures/Liability_Portfolio.png)"
   ]
  },
  {
   "cell_type": "markdown",
   "metadata": {},
   "source": [
    "The first and perhaps most difficult task was to create a time series that had random motion which could be varied. The baseline time series was constructed using a series of for loops and random normal distribution as well as interest rate input. The data set of assets and liabilities was artificially instantiated following Asset Liability Management (ALM) practices as well as current interest rates for such financial products. ALM procedures divide the total capital of company by percentage into an array of options with differing rates of return and stability. After creating a time series portfolio of asset and liability additional data frames which depicted the resulting affect from applied  stress. The Equity Risk data frame depicted the decrease amounts capital being gained in the asset portfolio with an inverse relationship to the liability portfolio. Another data set created focused on the spread of assets and liabilities created by the stress to forecast total amount of loss. \n"
   ]
  },
  {
   "cell_type": "markdown",
   "metadata": {},
   "source": [
    "![](https://raw.githubusercontent.com/Edward-Beck/dsc-5-capstone-project-online-ds-pt-100118/master/cap%20pictures/Equity_Risk_Portfolio.png)"
   ]
  },
  {
   "cell_type": "markdown",
   "metadata": {},
   "source": [
    "![](https://raw.githubusercontent.com/Edward-Beck/dsc-5-capstone-project-online-ds-pt-100118/master/cap%20pictures/Spread%20of%20Assets%20over%20Liabilities.png)"
   ]
  },
  {
   "cell_type": "markdown",
   "metadata": {},
   "source": [
    "To further simulate reality a recursive function was implemented to continuously update the asset, liability portfolios on a daily basis with the summation of assets and liabilities which were then re-distributed according to ALM guidelines."
   ]
  },
  {
   "cell_type": "markdown",
   "metadata": {},
   "source": [
    "![](https://raw.githubusercontent.com/Edward-Beck/dsc-5-capstone-project-online-ds-pt-100118/master/cap%20pictures/Plotly%20R%26C.png)"
   ]
  },
  {
   "cell_type": "markdown",
   "metadata": {},
   "source": [
    "After a complete dataset was generated  to model the random walks of time series of financial gains and losses it was time to visualize the data. To simply show the series over time would show general trend and variability however there was much more that could be done starting with rolling average to a weekly mean resampling. Using statistical modeling algorithms that enable forecasting of future outcomes based upon past results found produced mixed results. However because the data was artificially generated no real insight was gained from this however the test did prove that the data did not fit ARIMA modeling nor did it have much autocorrelation. \n"
   ]
  },
  {
   "cell_type": "markdown",
   "metadata": {},
   "source": [
    "![](https://raw.githubusercontent.com/Edward-Beck/dsc-5-capstone-project-online-ds-pt-100118/master/cap%20pictures/Rolling%20Mean%204%20time%20series.png)"
   ]
  },
  {
   "cell_type": "markdown",
   "metadata": {},
   "source": [
    "The plotly library has the capability of not only making figures interactive but also altering the axises of the graphs in real time. The time series of any increment can then be exported to run auto-regressive integrated moving average (ARIMA) modeling to forecast future performance. The plotly library also allows for permutation of all times series or the combination of chosen time series from different datasets through drop down menus.  The plotly library has much more that was not utilized due to the data set not being as large as a continuous time series generate by the stock market with hundreds or thousands of transactions in a given day. "
   ]
  },
  {
   "cell_type": "markdown",
   "metadata": {},
   "source": [
    "![](https://raw.githubusercontent.com/Edward-Beck/dsc-5-capstone-project-online-ds-pt-100118/master/cap%20pictures/ploty.png)"
   ]
  },
  {
   "cell_type": "markdown",
   "metadata": {},
   "source": [
    "In conclusion the notebook demonstrates the potential capability of python programming through a variety of analysis mechanism. This project was designed as a showcasing of the potential the visualization and computational ability available in some of the python libraries however this was only a cursory exploration.  "
   ]
  }
 ],
 "metadata": {
  "kernelspec": {
   "display_name": "Python [conda env:learn-env] *",
   "language": "python",
   "name": "conda-env-learn-env-py"
  },
  "language_info": {
   "codemirror_mode": {
    "name": "ipython",
    "version": 3
   },
   "file_extension": ".py",
   "mimetype": "text/x-python",
   "name": "python",
   "nbconvert_exporter": "python",
   "pygments_lexer": "ipython3",
   "version": "3.6.6"
  }
 },
 "nbformat": 4,
 "nbformat_minor": 2
}
