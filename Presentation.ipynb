{
 "cells": [
  {
   "cell_type": "markdown",
   "metadata": {},
   "source": [
    "![](https://raw.githubusercontent.com/Edward-Beck/dsc-5-capstone-project-online-ds-pt-100118/master/cap%20pictures/Cap1.png)"
   ]
  },
  {
   "cell_type": "markdown",
   "metadata": {},
   "source": [
    "![](https://raw.githubusercontent.com/Edward-Beck/dsc-5-capstone-project-online-ds-pt-100118/master/cap%20pictures/Cap2.png)"
   ]
  },
  {
   "cell_type": "markdown",
   "metadata": {},
   "source": [
    "![](https://raw.githubusercontent.com/Edward-Beck/dsc-5-capstone-project-online-ds-pt-100118/master/cap%20pictures/Cap3.png)"
   ]
  },
  {
   "cell_type": "markdown",
   "metadata": {},
   "source": [
    "![](https://raw.githubusercontent.com/Edward-Beck/dsc-5-capstone-project-online-ds-pt-100118/master/cap%20pictures/Cap4.png)"
   ]
  },
  {
   "cell_type": "markdown",
   "metadata": {},
   "source": [
    "![](https://raw.githubusercontent.com/Edward-Beck/dsc-5-capstone-project-online-ds-pt-100118/master/cap%20pictures/Cap5.png)"
   ]
  },
  {
   "cell_type": "markdown",
   "metadata": {},
   "source": [
    "![](https://raw.githubusercontent.com/Edward-Beck/dsc-5-capstone-project-online-ds-pt-100118/master/cap%20pictures/Cap6.png)"
   ]
  },
  {
   "cell_type": "markdown",
   "metadata": {},
   "source": [
    "![](https://raw.githubusercontent.com/Edward-Beck/dsc-5-capstone-project-online-ds-pt-100118/master/cap%20pictures/Cap7.png)"
   ]
  },
  {
   "cell_type": "markdown",
   "metadata": {},
   "source": [
    "![](https://raw.githubusercontent.com/Edward-Beck/dsc-5-capstone-project-online-ds-pt-100118/master/cap%20pictures/Cap8.png)"
   ]
  },
  {
   "cell_type": "markdown",
   "metadata": {},
   "source": [
    "![](https://raw.githubusercontent.com/Edward-Beck/dsc-5-capstone-project-online-ds-pt-100118/master/cap%20pictures/Cap9.png)"
   ]
  },
  {
   "cell_type": "markdown",
   "metadata": {},
   "source": [
    "![](https://raw.githubusercontent.com/Edward-Beck/dsc-5-capstone-project-online-ds-pt-100118/master/cap%20pictures/Cap10.png)"
   ]
  },
  {
   "cell_type": "markdown",
   "metadata": {},
   "source": [
    "![](https://raw.githubusercontent.com/Edward-Beck/dsc-5-capstone-project-online-ds-pt-100118/master/cap%20pictures/Cap11.png)"
   ]
  }
 ],
 "metadata": {
  "kernelspec": {
   "display_name": "Python 3",
   "language": "python",
   "name": "python3"
  },
  "language_info": {
   "codemirror_mode": {
    "name": "ipython",
    "version": 3
   },
   "file_extension": ".py",
   "mimetype": "text/x-python",
   "name": "python",
   "nbconvert_exporter": "python",
   "pygments_lexer": "ipython3",
   "version": "3.6.6"
  }
 },
 "nbformat": 4,
 "nbformat_minor": 2
}
